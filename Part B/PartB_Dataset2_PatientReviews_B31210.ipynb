{
 "cells": [
  {
   "cell_type": "markdown",
   "metadata": {},
   "source": [
    "### Patient Reviews"
   ]
  },
  {
   "cell_type": "code",
   "execution_count": null,
   "metadata": {},
   "outputs": [],
   "source": [
    "%pip install pandas matplotlib pm4py"
   ]
  },
  {
   "cell_type": "code",
   "execution_count": 1,
   "metadata": {},
   "outputs": [],
   "source": [
    "# Importing all necessary libraries/environments here\n",
    "import pandas as pd"
   ]
  },
  {
   "cell_type": "markdown",
   "metadata": {},
   "source": [
    "##### Basic Data Exploration"
   ]
  },
  {
   "cell_type": "code",
   "execution_count": 2,
   "metadata": {},
   "outputs": [
    {
     "name": "stdout",
     "output_type": "stream",
     "text": [
      "<class 'pandas.core.frame.DataFrame'>\n",
      "RangeIndex: 690 entries, 0 to 689\n",
      "Data columns (total 4 columns):\n",
      " #   Column         Non-Null Count  Dtype \n",
      "---  ------         --------------  ----- \n",
      " 0   patient        690 non-null    object\n",
      " 1    action        690 non-null    object\n",
      " 2    org:resource  690 non-null    object\n",
      " 3    DateTime      690 non-null    object\n",
      "dtypes: object(4)\n",
      "memory usage: 21.7+ KB\n",
      "Index(['patient', ' action', ' org:resource', ' DateTime'], dtype='object')\n"
     ]
    },
    {
     "data": {
      "text/html": [
       "<div>\n",
       "<style scoped>\n",
       "    .dataframe tbody tr th:only-of-type {\n",
       "        vertical-align: middle;\n",
       "    }\n",
       "\n",
       "    .dataframe tbody tr th {\n",
       "        vertical-align: top;\n",
       "    }\n",
       "\n",
       "    .dataframe thead th {\n",
       "        text-align: right;\n",
       "    }\n",
       "</style>\n",
       "<table border=\"1\" class=\"dataframe\">\n",
       "  <thead>\n",
       "    <tr style=\"text-align: right;\">\n",
       "      <th></th>\n",
       "      <th>patient</th>\n",
       "      <th>action</th>\n",
       "      <th>org:resource</th>\n",
       "      <th>DateTime</th>\n",
       "    </tr>\n",
       "  </thead>\n",
       "  <tbody>\n",
       "    <tr>\n",
       "      <th>0</th>\n",
       "      <td>patient 0</td>\n",
       "      <td>First consult</td>\n",
       "      <td>Dr. Anna</td>\n",
       "      <td>2017-01-02 11:40:11</td>\n",
       "    </tr>\n",
       "    <tr>\n",
       "      <th>1</th>\n",
       "      <td>patient 0</td>\n",
       "      <td>Blood test</td>\n",
       "      <td>Lab</td>\n",
       "      <td>2017-01-02 12:47:33</td>\n",
       "    </tr>\n",
       "    <tr>\n",
       "      <th>2</th>\n",
       "      <td>patient 0</td>\n",
       "      <td>Physical test</td>\n",
       "      <td>Nurse Jesse</td>\n",
       "      <td>2017-01-02 12:53:50</td>\n",
       "    </tr>\n",
       "    <tr>\n",
       "      <th>3</th>\n",
       "      <td>patient 0</td>\n",
       "      <td>Second consult</td>\n",
       "      <td>Dr. Anna</td>\n",
       "      <td>2017-01-02 16:21:06</td>\n",
       "    </tr>\n",
       "    <tr>\n",
       "      <th>4</th>\n",
       "      <td>patient 0</td>\n",
       "      <td>Surgery</td>\n",
       "      <td>Dr. Charlie</td>\n",
       "      <td>2017-01-05 13:23:09</td>\n",
       "    </tr>\n",
       "  </tbody>\n",
       "</table>\n",
       "</div>"
      ],
      "text/plain": [
       "     patient           action  org:resource              DateTime\n",
       "0  patient 0    First consult      Dr. Anna   2017-01-02 11:40:11\n",
       "1  patient 0       Blood test           Lab   2017-01-02 12:47:33\n",
       "2  patient 0    Physical test   Nurse Jesse   2017-01-02 12:53:50\n",
       "3  patient 0   Second consult      Dr. Anna   2017-01-02 16:21:06\n",
       "4  patient 0          Surgery   Dr. Charlie   2017-01-05 13:23:09"
      ]
     },
     "execution_count": 2,
     "metadata": {},
     "output_type": "execute_result"
    }
   ],
   "source": [
    "file_path = r\"D:\\Data Mining\\Data Mining Exam\\Part B\\PatientReviews.csv\"\n",
    "df = pd.read_csv(file_path)\n",
    "\n",
    "# Data Exploration\n",
    "df.info()\n",
    "print(df.columns)\n",
    "df.head()"
   ]
  },
  {
   "cell_type": "markdown",
   "metadata": {},
   "source": [
    "#### Data Preprocessing"
   ]
  },
  {
   "cell_type": "code",
   "execution_count": 3,
   "metadata": {},
   "outputs": [
    {
     "name": "stdout",
     "output_type": "stream",
     "text": [
      "No missing values found. No rows were dropped.\n"
     ]
    }
   ],
   "source": [
    "# Check for missing values\n",
    "missing_count = df.isnull().sum() # Count total missing values\n",
    "rows_with_missing = df.isnull().any(axis=1).sum()  # Count rows with missing values\n",
    "\n",
    "if rows_with_missing > 0:\n",
    "    df = df.dropna()\n",
    "    print(f\"Dropped {rows_with_missing} rows containing missing values.\")\n",
    "else:\n",
    "    print(\"No missing values found. No rows were dropped.\")"
   ]
  },
  {
   "cell_type": "code",
   "execution_count": 4,
   "metadata": {},
   "outputs": [],
   "source": [
    "# stripping spaces in column names\n",
    "df.columns = df.columns.str.strip()"
   ]
  },
  {
   "cell_type": "code",
   "execution_count": 5,
   "metadata": {},
   "outputs": [
    {
     "name": "stdout",
     "output_type": "stream",
     "text": [
      "Total duplicated rows: 0\n",
      "<class 'pandas.core.frame.DataFrame'>\n",
      "RangeIndex: 690 entries, 0 to 689\n",
      "Data columns (total 4 columns):\n",
      " #   Column        Non-Null Count  Dtype \n",
      "---  ------        --------------  ----- \n",
      " 0   patient       690 non-null    object\n",
      " 1   action        690 non-null    object\n",
      " 2   org:resource  690 non-null    object\n",
      " 3   DateTime      690 non-null    object\n",
      "dtypes: object(4)\n",
      "memory usage: 21.7+ KB\n"
     ]
    }
   ],
   "source": [
    "# Check & removal of duplicates (Same patient, action, org:resource & DateTime)\n",
    "duplicates = df[df.duplicated(subset=['patient', 'action', 'org:resource', 'DateTime'], keep=False)]\n",
    "\n",
    "# Number and all duplicated rows\n",
    "print(f\"Total duplicated rows: {duplicates.shape[0]}\")\n",
    "\n",
    "# Removing duplicates while keeping the first occurrence\n",
    "df = df.drop_duplicates(subset=['patient', 'action', 'org:resource', 'DateTime'], keep=\"first\")\n",
    "\n",
    "df.info()"
   ]
  },
  {
   "cell_type": "markdown",
   "metadata": {},
   "source": [
    "#### Generating Event Logs"
   ]
  },
  {
   "cell_type": "code",
   "execution_count": 12,
   "metadata": {},
   "outputs": [
    {
     "name": "stderr",
     "output_type": "stream",
     "text": [
      "exporting log, completed traces ::   0%|          | 0/100 [00:00<?, ?it/s]"
     ]
    },
    {
     "name": "stderr",
     "output_type": "stream",
     "text": [
      "exporting log, completed traces :: 100%|██████████| 100/100 [00:00<00:00, 7291.40it/s]"
     ]
    },
    {
     "name": "stdout",
     "output_type": "stream",
     "text": [
      "\n",
      "Event log saved successfully as Question_2.xes\n"
     ]
    },
    {
     "name": "stderr",
     "output_type": "stream",
     "text": [
      "\n"
     ]
    }
   ],
   "source": [
    "import pm4py\n",
    "\n",
    "# Renaming the columns to match the process mining format\n",
    "df = df.rename(columns={\n",
    "    'patient': 'case:concept:name',  # Case ID\n",
    "    'action': 'concept:name',        # Activity name\n",
    "    'org:resource': 'org:resource',  # Resource performing the action\n",
    "    'DateTime': 'time:timestamp'     # Timestamp column\n",
    "}, errors=\"ignore\")\n",
    "\n",
    "# Ensure 'time:timestamp' is in datetime format\n",
    "df['time:timestamp'] = pd.to_datetime(df['time:timestamp'], errors='coerce')\n",
    "\n",
    "# Drop rows with missing or invalid timestamps\n",
    "df = df.dropna(subset=['time:timestamp'])\n",
    "\n",
    "# Converting the dataframe into an Event Log format using PM4Py\n",
    "event_log = pm4py.convert_to_event_log(df)\n",
    "\n",
    "# Saving the event log as a .xes file\n",
    "save_path = r\"D:\\Data Mining\\Data Mining Exam\\Part B\\Question_2.xes\"\n",
    "pm4py.write_xes(event_log, save_path)\n",
    "\n",
    "print(f\"\\nEvent log saved successfully as Question_2.xes\")\n"
   ]
  },
  {
   "cell_type": "markdown",
   "metadata": {},
   "source": [
    "#### Bar Graph showing “actions” undertaken at the hospital between January 2017 and June 2017"
   ]
  },
  {
   "cell_type": "code",
   "execution_count": 9,
   "metadata": {},
   "outputs": [
    {
     "data": {
      "image/png": "[encoded data removed]",
      "text/plain": [
       "<Figure size 900x600 with 1 Axes>"
      ]
     },
     "metadata": {},
     "output_type": "display_data"
    }
   ],
   "source": [
    "import matplotlib.pyplot as plt\n",
    "\n",
    "# Filter data between January 2017 and June 2017\n",
    "start_date = '2017-01-01'\n",
    "end_date = '2017-06-30'\n",
    "df_filtered = df[(df['time:timestamp'] >= start_date) & (df['time:timestamp'] <= end_date)]\n",
    "\n",
    "# Count per action\n",
    "action_counts = df_filtered['concept:name'].value_counts()\n",
    "\n",
    "# Bar chart plot\n",
    "plt.figure(figsize=(9, 6))\n",
    "action_counts.plot(kind='bar', color='skyblue')\n",
    "\n",
    "# Labels and title\n",
    "plt.xlabel('Actions', fontsize=12)\n",
    "plt.ylabel('Frequency', fontsize=12)\n",
    "plt.title('Hospital Actions (Jan 2017 - June 2017)', fontsize=14)\n",
    "plt.xticks(rotation=45)\n",
    "plt.grid(axis='y', linestyle='--', alpha=0.9)\n",
    "\n",
    "# plot\n",
    "plt.tight_layout()\n",
    "plt.show()\n"
   ]
  },
  {
   "cell_type": "markdown",
   "metadata": {},
   "source": [
    "#### Process Mining to generate flow of \"actions\" undertaken at the Hospital"
   ]
  },
  {
   "cell_type": "code",
   "execution_count": 10,
   "metadata": {},
   "outputs": [
    {
     "name": "stderr",
     "output_type": "stream",
     "text": [
      "parsing log, completed traces :: 100%|██████████| 100/100 [00:00<00:00, 6820.34it/s]\n"
     ]
    },
    {
     "data": {
      "text/html": [
       "<div>\n",
       "<style scoped>\n",
       "    .dataframe tbody tr th:only-of-type {\n",
       "        vertical-align: middle;\n",
       "    }\n",
       "\n",
       "    .dataframe tbody tr th {\n",
       "        vertical-align: top;\n",
       "    }\n",
       "\n",
       "    .dataframe thead th {\n",
       "        text-align: right;\n",
       "    }\n",
       "</style>\n",
       "<table border=\"1\" class=\"dataframe\">\n",
       "  <thead>\n",
       "    <tr style=\"text-align: right;\">\n",
       "      <th></th>\n",
       "      <th>concept:name</th>\n",
       "      <th>org:resource</th>\n",
       "      <th>time:timestamp</th>\n",
       "      <th>case:concept:name</th>\n",
       "    </tr>\n",
       "  </thead>\n",
       "  <tbody>\n",
       "    <tr>\n",
       "      <th>0</th>\n",
       "      <td>First consult</td>\n",
       "      <td>Dr. Anna</td>\n",
       "      <td>2017-01-02 11:40:11+00:00</td>\n",
       "      <td>patient 0</td>\n",
       "    </tr>\n",
       "    <tr>\n",
       "      <th>1</th>\n",
       "      <td>Blood test</td>\n",
       "      <td>Lab</td>\n",
       "      <td>2017-01-02 12:47:33+00:00</td>\n",
       "      <td>patient 0</td>\n",
       "    </tr>\n",
       "    <tr>\n",
       "      <th>2</th>\n",
       "      <td>Physical test</td>\n",
       "      <td>Nurse Jesse</td>\n",
       "      <td>2017-01-02 12:53:50+00:00</td>\n",
       "      <td>patient 0</td>\n",
       "    </tr>\n",
       "    <tr>\n",
       "      <th>3</th>\n",
       "      <td>Second consult</td>\n",
       "      <td>Dr. Anna</td>\n",
       "      <td>2017-01-02 16:21:06+00:00</td>\n",
       "      <td>patient 0</td>\n",
       "    </tr>\n",
       "    <tr>\n",
       "      <th>4</th>\n",
       "      <td>Surgery</td>\n",
       "      <td>Dr. Charlie</td>\n",
       "      <td>2017-01-05 13:23:09+00:00</td>\n",
       "      <td>patient 0</td>\n",
       "    </tr>\n",
       "    <tr>\n",
       "      <th>...</th>\n",
       "      <td>...</td>\n",
       "      <td>...</td>\n",
       "      <td>...</td>\n",
       "      <td>...</td>\n",
       "    </tr>\n",
       "    <tr>\n",
       "      <th>685</th>\n",
       "      <td>X-ray scan</td>\n",
       "      <td>Team 2</td>\n",
       "      <td>2017-05-25 11:03:27+00:00</td>\n",
       "      <td>patient 99</td>\n",
       "    </tr>\n",
       "    <tr>\n",
       "      <th>686</th>\n",
       "      <td>Physical test</td>\n",
       "      <td>Nurse Corey</td>\n",
       "      <td>2017-05-25 11:55:24+00:00</td>\n",
       "      <td>patient 99</td>\n",
       "    </tr>\n",
       "    <tr>\n",
       "      <th>687</th>\n",
       "      <td>Second consult</td>\n",
       "      <td>Dr. Anna</td>\n",
       "      <td>2017-05-29 15:12:39+00:00</td>\n",
       "      <td>patient 99</td>\n",
       "    </tr>\n",
       "    <tr>\n",
       "      <th>688</th>\n",
       "      <td>Medicine</td>\n",
       "      <td>Pharmacy</td>\n",
       "      <td>2017-05-29 16:17:13+00:00</td>\n",
       "      <td>patient 99</td>\n",
       "    </tr>\n",
       "    <tr>\n",
       "      <th>689</th>\n",
       "      <td>Final consult</td>\n",
       "      <td>Dr. Anna</td>\n",
       "      <td>2017-05-31 12:46:43+00:00</td>\n",
       "      <td>patient 99</td>\n",
       "    </tr>\n",
       "  </tbody>\n",
       "</table>\n",
       "<p>690 rows × 4 columns</p>\n",
       "</div>"
      ],
      "text/plain": [
       "        concept:name  org:resource            time:timestamp case:concept:name\n",
       "0      First consult      Dr. Anna 2017-01-02 11:40:11+00:00         patient 0\n",
       "1         Blood test           Lab 2017-01-02 12:47:33+00:00         patient 0\n",
       "2      Physical test   Nurse Jesse 2017-01-02 12:53:50+00:00         patient 0\n",
       "3     Second consult      Dr. Anna 2017-01-02 16:21:06+00:00         patient 0\n",
       "4            Surgery   Dr. Charlie 2017-01-05 13:23:09+00:00         patient 0\n",
       "..               ...           ...                       ...               ...\n",
       "685       X-ray scan        Team 2 2017-05-25 11:03:27+00:00        patient 99\n",
       "686    Physical test   Nurse Corey 2017-05-25 11:55:24+00:00        patient 99\n",
       "687   Second consult      Dr. Anna 2017-05-29 15:12:39+00:00        patient 99\n",
       "688         Medicine      Pharmacy 2017-05-29 16:17:13+00:00        patient 99\n",
       "689    Final consult      Dr. Anna 2017-05-31 12:46:43+00:00        patient 99\n",
       "\n",
       "[690 rows x 4 columns]"
      ]
     },
     "execution_count": 10,
     "metadata": {},
     "output_type": "execute_result"
    }
   ],
   "source": [
    "# loading saved event logs\n",
    "logs = pm4py.read_xes(r'D:\\Data Mining\\Data Mining Exam\\Part B\\Question_2.xes')\n",
    "logs"
   ]
  },
  {
   "cell_type": "code",
   "execution_count": 11,
   "metadata": {},
   "outputs": [
    {
     "name": "stdout",
     "output_type": "stream",
     "text": [
      "\n",
      " The flow of “actions” undertaken at the hospital is saved as: Flow_of_Actions.png\n"
     ]
    },
    {
     "data": {
      "text/plain": [
       "'Flow_of_Actions.png'"
      ]
     },
     "execution_count": 11,
     "metadata": {},
     "output_type": "execute_result"
    }
   ],
   "source": [
    "from pm4py.visualization.petri_net import visualizer as pn_visualizer\n",
    "\n",
    "# Discovering the process model using Heuristic Miner\n",
    "heu_net, initial_marking, final_marking = pm4py.algo.discovery.heuristics.algorithm.apply(logs)\n",
    "\n",
    "# Visualizing the discovered process model using the Petri net visualizer\n",
    "gviz = pn_visualizer.apply(heu_net, initial_marking, final_marking)\n",
    "\n",
    "# Save and view the visualization\n",
    "print(\"\\n The flow of “actions” undertaken at the hospital is saved as: Flow_of_Actions.png\")\n",
    "gviz.render('Flow_of_Actions', format='png', view=True) # This step requires Graphviz to be installed and added to system PATH"
   ]
  }
 ],
 "metadata": {
  "kernelspec": {
   "display_name": "Python 3",
   "language": "python",
   "name": "python3"
  },
  "language_info": {
   "codemirror_mode": {
    "name": "ipython",
    "version": 3
   },
   "file_extension": ".py",
   "mimetype": "text/x-python",
   "name": "python",
   "nbconvert_exporter": "python",
   "pygments_lexer": "ipython3",
   "version": "3.13.0rc2"
  }
 },
 "nbformat": 4,
 "nbformat_minor": 2
}
