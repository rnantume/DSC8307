{
 "cells": [
  {
   "cell_type": "markdown",
   "metadata": {},
   "source": [
    "### Abalone Traints\n",
    "- Generate a machine learning model to predict the age of Abalone using 'Rings'.\n",
    "    - EDA\n",
    "    - Feature Selection\n",
    "    - Model Selection and training\n",
    "    - Model Evaluation\n",
    "- Predict the 'Rings' which determine age of the Abalone species in the testing dataset (i.e. Test.csv).\n",
    "    - Apply the trained model to predict 'Rings'in test dataset which are used to determine age of abaolone"
   ]
  },
  {
   "cell_type": "code",
   "execution_count": 12,
   "metadata": {},
   "outputs": [],
   "source": [
    "# Importing all necessary libraries and environments here\n",
    "import pandas as pd\n",
    "from sklearn.preprocessing import LabelEncoder\n",
    "import numpy as np\n",
    "from scipy.stats import f_oneway\n",
    "from sklearn.model_selection import train_test_split, cross_val_score\n",
    "from sklearn.ensemble import RandomForestRegressor\n",
    "from sklearn.metrics import mean_absolute_error, r2_score\n",
    "import joblib"
   ]
  },
  {
   "cell_type": "markdown",
   "metadata": {},
   "source": [
    "##### Basic Data Exploration"
   ]
  },
  {
   "cell_type": "code",
   "execution_count": 13,
   "metadata": {},
   "outputs": [
    {
     "name": "stdout",
     "output_type": "stream",
     "text": [
      "<class 'pandas.core.frame.DataFrame'>\n",
      "RangeIndex: 90615 entries, 0 to 90614\n",
      "Data columns (total 10 columns):\n",
      " #   Column          Non-Null Count  Dtype  \n",
      "---  ------          --------------  -----  \n",
      " 0   id              90615 non-null  int64  \n",
      " 1   Sex             90615 non-null  object \n",
      " 2   Length          90615 non-null  float64\n",
      " 3   Diameter        90615 non-null  float64\n",
      " 4   Height          90615 non-null  float64\n",
      " 5   Whole weight    90615 non-null  float64\n",
      " 6   Whole weight.1  90615 non-null  float64\n",
      " 7   Whole weight.2  90615 non-null  float64\n",
      " 8   Shell weight    90615 non-null  float64\n",
      " 9   Rings           90615 non-null  int64  \n",
      "dtypes: float64(7), int64(2), object(1)\n",
      "memory usage: 6.9+ MB\n",
      "Index(['id', 'Sex', 'Length', 'Diameter', 'Height', 'Whole weight',\n",
      "       'Whole weight.1', 'Whole weight.2', 'Shell weight', 'Rings'],\n",
      "      dtype='object')\n"
     ]
    }
   ],
   "source": [
    "# Loading the dataset\n",
    "file_path = r\"D:\\Data Mining\\Data Mining Exam\\Part B\\Train.csv\"\n",
    "df = pd.read_csv(file_path)\n",
    "\n",
    "#check the structure before transformation\n",
    "df.info() # 90615 rows, 10 columns\n",
    "\n",
    "#Display first 5 rows\n",
    "df.head()\n",
    "print(df.columns)"
   ]
  },
  {
   "cell_type": "markdown",
   "metadata": {},
   "source": [
    "##### Data Pre-processing"
   ]
  },
  {
   "cell_type": "code",
   "execution_count": 14,
   "metadata": {},
   "outputs": [
    {
     "name": "stdout",
     "output_type": "stream",
     "text": [
      "No missing values found. No rows were dropped.\n"
     ]
    }
   ],
   "source": [
    "# Check for missing values\n",
    "missing_count = df.isnull().sum() # Count total missing values\n",
    "rows_with_missing = df.isnull().any(axis=1).sum()  # Count rows with missing values\n",
    "\n",
    "if rows_with_missing > 0:\n",
    "    df = df.dropna()\n",
    "    print(f\"Dropped {rows_with_missing} rows containing missing values.\")\n",
    "else:\n",
    "    print(\"No missing values found. No rows were dropped.\")"
   ]
  },
  {
   "cell_type": "code",
   "execution_count": 15,
   "metadata": {},
   "outputs": [
    {
     "name": "stdout",
     "output_type": "stream",
     "text": [
      "Total duplicated rows: 0\n",
      "<class 'pandas.core.frame.DataFrame'>\n",
      "RangeIndex: 90615 entries, 0 to 90614\n",
      "Data columns (total 10 columns):\n",
      " #   Column          Non-Null Count  Dtype  \n",
      "---  ------          --------------  -----  \n",
      " 0   id              90615 non-null  int64  \n",
      " 1   Sex             90615 non-null  object \n",
      " 2   Length          90615 non-null  float64\n",
      " 3   Diameter        90615 non-null  float64\n",
      " 4   Height          90615 non-null  float64\n",
      " 5   Whole weight    90615 non-null  float64\n",
      " 6   Whole weight.1  90615 non-null  float64\n",
      " 7   Whole weight.2  90615 non-null  float64\n",
      " 8   Shell weight    90615 non-null  float64\n",
      " 9   Rings           90615 non-null  int64  \n",
      "dtypes: float64(7), int64(2), object(1)\n",
      "memory usage: 6.9+ MB\n"
     ]
    }
   ],
   "source": [
    "# Check & removal of duplicates (Same values across all variables)\n",
    "duplicates = df[df.duplicated(subset=['id', 'Sex', 'Length', 'Diameter', 'Height', 'Whole weight',\n",
    "       'Whole weight.1', 'Whole weight.2', 'Shell weight', 'Rings'], keep=False)]\n",
    "\n",
    "# Number and all duplicated rows\n",
    "print(f\"Total duplicated rows: {duplicates.shape[0]}\")\n",
    "\n",
    "# Removing duplicates while keeping the first occurrence\n",
    "df = df.drop_duplicates(subset=['id', 'Sex', 'Length', 'Diameter', 'Height', 'Whole weight',\n",
    "       'Whole weight.1', 'Whole weight.2', 'Shell weight', 'Rings'], keep=\"first\")\n",
    "\n",
    "df.info()"
   ]
  },
  {
   "cell_type": "code",
   "execution_count": 16,
   "metadata": {},
   "outputs": [
    {
     "name": "stdout",
     "output_type": "stream",
     "text": [
      "Label encoding applied to 'Sex' column.\n"
     ]
    },
    {
     "data": {
      "text/html": [
       "<div>\n",
       "<style scoped>\n",
       "    .dataframe tbody tr th:only-of-type {\n",
       "        vertical-align: middle;\n",
       "    }\n",
       "\n",
       "    .dataframe tbody tr th {\n",
       "        vertical-align: top;\n",
       "    }\n",
       "\n",
       "    .dataframe thead th {\n",
       "        text-align: right;\n",
       "    }\n",
       "</style>\n",
       "<table border=\"1\" class=\"dataframe\">\n",
       "  <thead>\n",
       "    <tr style=\"text-align: right;\">\n",
       "      <th></th>\n",
       "      <th>id</th>\n",
       "      <th>Sex</th>\n",
       "      <th>Length</th>\n",
       "      <th>Diameter</th>\n",
       "      <th>Height</th>\n",
       "      <th>Whole weight</th>\n",
       "      <th>Whole weight.1</th>\n",
       "      <th>Whole weight.2</th>\n",
       "      <th>Shell weight</th>\n",
       "      <th>Rings</th>\n",
       "    </tr>\n",
       "  </thead>\n",
       "  <tbody>\n",
       "    <tr>\n",
       "      <th>0</th>\n",
       "      <td>0</td>\n",
       "      <td>0</td>\n",
       "      <td>0.550</td>\n",
       "      <td>0.430</td>\n",
       "      <td>0.150</td>\n",
       "      <td>0.7715</td>\n",
       "      <td>0.3285</td>\n",
       "      <td>0.1465</td>\n",
       "      <td>0.2400</td>\n",
       "      <td>11</td>\n",
       "    </tr>\n",
       "    <tr>\n",
       "      <th>1</th>\n",
       "      <td>1</td>\n",
       "      <td>0</td>\n",
       "      <td>0.630</td>\n",
       "      <td>0.490</td>\n",
       "      <td>0.145</td>\n",
       "      <td>1.1300</td>\n",
       "      <td>0.4580</td>\n",
       "      <td>0.2765</td>\n",
       "      <td>0.3200</td>\n",
       "      <td>11</td>\n",
       "    </tr>\n",
       "    <tr>\n",
       "      <th>2</th>\n",
       "      <td>2</td>\n",
       "      <td>1</td>\n",
       "      <td>0.160</td>\n",
       "      <td>0.110</td>\n",
       "      <td>0.025</td>\n",
       "      <td>0.0210</td>\n",
       "      <td>0.0055</td>\n",
       "      <td>0.0030</td>\n",
       "      <td>0.0050</td>\n",
       "      <td>6</td>\n",
       "    </tr>\n",
       "    <tr>\n",
       "      <th>3</th>\n",
       "      <td>3</td>\n",
       "      <td>2</td>\n",
       "      <td>0.595</td>\n",
       "      <td>0.475</td>\n",
       "      <td>0.150</td>\n",
       "      <td>0.9145</td>\n",
       "      <td>0.3755</td>\n",
       "      <td>0.2055</td>\n",
       "      <td>0.2500</td>\n",
       "      <td>10</td>\n",
       "    </tr>\n",
       "    <tr>\n",
       "      <th>4</th>\n",
       "      <td>4</td>\n",
       "      <td>1</td>\n",
       "      <td>0.555</td>\n",
       "      <td>0.425</td>\n",
       "      <td>0.130</td>\n",
       "      <td>0.7820</td>\n",
       "      <td>0.3695</td>\n",
       "      <td>0.1600</td>\n",
       "      <td>0.1975</td>\n",
       "      <td>9</td>\n",
       "    </tr>\n",
       "  </tbody>\n",
       "</table>\n",
       "</div>"
      ],
      "text/plain": [
       "   id  Sex  Length  Diameter  Height  Whole weight  Whole weight.1  \\\n",
       "0   0    0   0.550     0.430   0.150        0.7715          0.3285   \n",
       "1   1    0   0.630     0.490   0.145        1.1300          0.4580   \n",
       "2   2    1   0.160     0.110   0.025        0.0210          0.0055   \n",
       "3   3    2   0.595     0.475   0.150        0.9145          0.3755   \n",
       "4   4    1   0.555     0.425   0.130        0.7820          0.3695   \n",
       "\n",
       "   Whole weight.2  Shell weight  Rings  \n",
       "0          0.1465        0.2400     11  \n",
       "1          0.2765        0.3200     11  \n",
       "2          0.0030        0.0050      6  \n",
       "3          0.2055        0.2500     10  \n",
       "4          0.1600        0.1975      9  "
      ]
     },
     "execution_count": 16,
     "metadata": {},
     "output_type": "execute_result"
    }
   ],
   "source": [
    "# Converting \"Sex\" (categorical) to numerical\n",
    "\n",
    "# Initialize LabelEncoder\n",
    "label_encoder = LabelEncoder()\n",
    "\n",
    "# Apply LabelEncoder to the 'Sex' column\n",
    "df['Sex'] = label_encoder.fit_transform(df['Sex'])\n",
    "\n",
    "print(\"Label encoding applied to 'Sex' column.\")\n",
    "df.head()"
   ]
  },
  {
   "cell_type": "markdown",
   "metadata": {},
   "source": [
    "#### Feature Selection"
   ]
  },
  {
   "cell_type": "code",
   "execution_count": 17,
   "metadata": {},
   "outputs": [
    {
     "name": "stdout",
     "output_type": "stream",
     "text": [
      "Correlation Matrix:\n",
      "\n",
      "Rings             1.000000\n",
      "Shell weight      0.694766\n",
      "Height            0.665772\n",
      "Diameter          0.636832\n",
      "Length            0.623786\n",
      "Whole weight      0.617274\n",
      "Whole weight.2    0.588954\n",
      "Whole weight.1    0.515067\n",
      "Name: Rings, dtype: float64\n",
      "\n",
      "ANOVA test p-value for 'Sex' vs 'Rings': 0.0\n"
     ]
    }
   ],
   "source": [
    "# Continuous and categorical features\n",
    "continuous_features = [\"Length\", \"Diameter\", \"Height\", \"Whole weight\", \"Whole weight.1\", \"Whole weight.2\", \"Shell weight\", \"Rings\"]\n",
    "categorical_features = [\"Sex\"]\n",
    "\n",
    "# Correlation matrix (for numerical variables)\n",
    "correlation_matrix = df[continuous_features].corr()\n",
    "\n",
    "# Correlation values for 'Rings' (for numericals)\n",
    "print(\"Correlation Matrix:\\n\")\n",
    "print(correlation_matrix[\"Rings\"].sort_values(ascending=False))\n",
    "\n",
    "# ANOVA test for the 'Sex' categorical feature with 'Rings' (continuous)\n",
    "groups = [df[df[\"Sex\"] == sex][\"Rings\"] for sex in df[\"Sex\"].unique()]\n",
    "F, p_value = f_oneway(*groups)\n",
    "\n",
    "# Print the p-value for the ANOVA test\n",
    "print(f\"\\nANOVA test p-value for 'Sex' vs 'Rings': {p_value}\")"
   ]
  },
  {
   "cell_type": "markdown",
   "metadata": {},
   "source": [
    "- Results for Feature Selection\n",
    "    - Key predictors of \"Rings\" include \"Shell weight\", \"Height\", \"Diameter\", \"Length\", \"Whole weight\", Whole weight.2, Whole weight.1 with moderate contributions. The ANOVA test (p = 0.0) confirms \"Sex\" as a significant categorical feature."
   ]
  },
  {
   "cell_type": "markdown",
   "metadata": {},
   "source": [
    "#### Prediction Model Training and Evaluation"
   ]
  },
  {
   "cell_type": "code",
   "execution_count": 19,
   "metadata": {},
   "outputs": [
    {
     "name": "stdout",
     "output_type": "stream",
     "text": [
      "Model Performance:\n",
      "MAE: 1.2949787562765547\n",
      "R² Score: 0.6479998060436999\n"
     ]
    }
   ],
   "source": [
    "#Separating the target variable (Rings) from the features\n",
    "X = df.drop(columns=['Rings', 'id'])  # Features\n",
    "y = df['Rings']  # Target\n",
    "\n",
    "# Train-test Split\n",
    "X_train, X_valid, y_train, y_valid = train_test_split(X, y, test_size=0.2, random_state=42)\n",
    "\n",
    "# Training a RandomForest Regressor\n",
    "model = RandomForestRegressor(n_estimators=100, random_state=42)\n",
    "model.fit(X_train, y_train)\n",
    "\n",
    "y_pred = model.predict(X_valid)\n",
    "print(\"Model Performance:\")\n",
    "print(f\"MAE: {mean_absolute_error(y_valid, y_pred)}\")\n",
    "print(f\"R² Score: {r2_score(y_valid, y_pred)}\")"
   ]
  },
  {
   "cell_type": "markdown",
   "metadata": {},
   "source": [
    "##### Cross-validation of model's performance"
   ]
  },
  {
   "cell_type": "code",
   "execution_count": 20,
   "metadata": {},
   "outputs": [
    {
     "name": "stdout",
     "output_type": "stream",
     "text": [
      "Cross-Validation MAE Scores: [1.2764912  1.29288308 1.28362247 1.26761298 1.27611212]\n",
      "Average Cross-Validation MAE: 1.2793443690338244\n"
     ]
    }
   ],
   "source": [
    "# Performing 5-fold cross-validation of the model's performance.\n",
    "\n",
    "cv_scores = cross_val_score(model, X, y, cv=5, scoring='neg_mean_absolute_error')\n",
    "print(\"Cross-Validation MAE Scores:\", -cv_scores)\n",
    "print(\"Average Cross-Validation MAE:\", -cv_scores.mean())"
   ]
  },
  {
   "cell_type": "markdown",
   "metadata": {},
   "source": [
    "#####  Saving the prediction model"
   ]
  },
  {
   "cell_type": "code",
   "execution_count": 21,
   "metadata": {},
   "outputs": [
    {
     "name": "stdout",
     "output_type": "stream",
     "text": [
      "Model saved as 'Abalone_Age_predictor.joblib'\n"
     ]
    }
   ],
   "source": [
    "joblib.dump(model, \"Abalone_Age_predictor.joblib\")\n",
    "print(\"Model saved as 'Abalone_Age_predictor.joblib'\")"
   ]
  },
  {
   "cell_type": "markdown",
   "metadata": {},
   "source": [
    "##### Predicting the 'Rings' which determine age of the Abalone species in the testing dataset (i.e. Test.csv)"
   ]
  },
  {
   "cell_type": "code",
   "execution_count": 22,
   "metadata": {},
   "outputs": [
    {
     "name": "stdout",
     "output_type": "stream",
     "text": [
      "\n",
      "Predictions saved successfully as 'Rings_prediction.csv'\n"
     ]
    }
   ],
   "source": [
    "#Applying the model to the test data (Test.csv) for making predictions\n",
    "\n",
    "# Loading test data\n",
    "test_df = pd.read_csv('Test.csv')\n",
    "#test_df.info()\n",
    "\n",
    "# Ensure 'Id' is correctly referenced\n",
    "id_column = 'id' if 'id' in test_df.columns else 'id'\n",
    "\n",
    "# Encode 'Sex' if it exists\n",
    "if 'Sex' in test_df.columns:\n",
    "    label_encoder = LabelEncoder()\n",
    "    test_df['Sex'] = label_encoder.fit_transform(test_df['Sex'])  # Encode\n",
    "\n",
    "# Prepare test features\n",
    "X_test = test_df.drop(columns=[col for col in ['Rings', id_column] if col in test_df.columns])\n",
    "\n",
    "# Make predictions\n",
    "predictions = model.predict(X_test)\n",
    "\n",
    "# Restore original 'Sex' values (optional, in case needed in output)\n",
    "if 'Sex' in test_df.columns:\n",
    "    test_df['Sex'] = label_encoder.inverse_transform(test_df['Sex'])  # Decode back\n",
    "\n",
    "# Append predictions to test data\n",
    "test_df['Predicted Rings'] = predictions.astype(int) # 'Rings' data in train dataset were of type int\n",
    "\n",
    "# Save as CSV\n",
    "test_df.to_csv('Rings_prediction.csv', index=False)\n",
    "\n",
    "print(\"\\nPredictions saved successfully as 'Rings_prediction.csv'\")"
   ]
  },
  {
   "cell_type": "code",
   "execution_count": 23,
   "metadata": {},
   "outputs": [
    {
     "data": {
      "text/html": [
       "<div>\n",
       "<style scoped>\n",
       "    .dataframe tbody tr th:only-of-type {\n",
       "        vertical-align: middle;\n",
       "    }\n",
       "\n",
       "    .dataframe tbody tr th {\n",
       "        vertical-align: top;\n",
       "    }\n",
       "\n",
       "    .dataframe thead th {\n",
       "        text-align: right;\n",
       "    }\n",
       "</style>\n",
       "<table border=\"1\" class=\"dataframe\">\n",
       "  <thead>\n",
       "    <tr style=\"text-align: right;\">\n",
       "      <th></th>\n",
       "      <th>id</th>\n",
       "      <th>Sex</th>\n",
       "      <th>Length</th>\n",
       "      <th>Diameter</th>\n",
       "      <th>Height</th>\n",
       "      <th>Whole weight</th>\n",
       "      <th>Whole weight.1</th>\n",
       "      <th>Whole weight.2</th>\n",
       "      <th>Shell weight</th>\n",
       "      <th>Predicted Rings</th>\n",
       "    </tr>\n",
       "  </thead>\n",
       "  <tbody>\n",
       "    <tr>\n",
       "      <th>0</th>\n",
       "      <td>90615</td>\n",
       "      <td>M</td>\n",
       "      <td>0.645</td>\n",
       "      <td>0.475</td>\n",
       "      <td>0.155</td>\n",
       "      <td>1.2380</td>\n",
       "      <td>0.6185</td>\n",
       "      <td>0.3125</td>\n",
       "      <td>0.3005</td>\n",
       "      <td>10</td>\n",
       "    </tr>\n",
       "    <tr>\n",
       "      <th>1</th>\n",
       "      <td>90616</td>\n",
       "      <td>M</td>\n",
       "      <td>0.580</td>\n",
       "      <td>0.460</td>\n",
       "      <td>0.160</td>\n",
       "      <td>0.9830</td>\n",
       "      <td>0.4785</td>\n",
       "      <td>0.2195</td>\n",
       "      <td>0.2750</td>\n",
       "      <td>9</td>\n",
       "    </tr>\n",
       "    <tr>\n",
       "      <th>2</th>\n",
       "      <td>90617</td>\n",
       "      <td>M</td>\n",
       "      <td>0.560</td>\n",
       "      <td>0.420</td>\n",
       "      <td>0.140</td>\n",
       "      <td>0.8395</td>\n",
       "      <td>0.3525</td>\n",
       "      <td>0.1845</td>\n",
       "      <td>0.2405</td>\n",
       "      <td>10</td>\n",
       "    </tr>\n",
       "    <tr>\n",
       "      <th>3</th>\n",
       "      <td>90618</td>\n",
       "      <td>M</td>\n",
       "      <td>0.570</td>\n",
       "      <td>0.490</td>\n",
       "      <td>0.145</td>\n",
       "      <td>0.8740</td>\n",
       "      <td>0.3525</td>\n",
       "      <td>0.1865</td>\n",
       "      <td>0.2350</td>\n",
       "      <td>10</td>\n",
       "    </tr>\n",
       "    <tr>\n",
       "      <th>4</th>\n",
       "      <td>90619</td>\n",
       "      <td>I</td>\n",
       "      <td>0.415</td>\n",
       "      <td>0.325</td>\n",
       "      <td>0.110</td>\n",
       "      <td>0.3580</td>\n",
       "      <td>0.1575</td>\n",
       "      <td>0.0670</td>\n",
       "      <td>0.1050</td>\n",
       "      <td>7</td>\n",
       "    </tr>\n",
       "  </tbody>\n",
       "</table>\n",
       "</div>"
      ],
      "text/plain": [
       "      id Sex  Length  Diameter  Height  Whole weight  Whole weight.1  \\\n",
       "0  90615   M   0.645     0.475   0.155        1.2380          0.6185   \n",
       "1  90616   M   0.580     0.460   0.160        0.9830          0.4785   \n",
       "2  90617   M   0.560     0.420   0.140        0.8395          0.3525   \n",
       "3  90618   M   0.570     0.490   0.145        0.8740          0.3525   \n",
       "4  90619   I   0.415     0.325   0.110        0.3580          0.1575   \n",
       "\n",
       "   Whole weight.2  Shell weight  Predicted Rings  \n",
       "0          0.3125        0.3005               10  \n",
       "1          0.2195        0.2750                9  \n",
       "2          0.1845        0.2405               10  \n",
       "3          0.1865        0.2350               10  \n",
       "4          0.0670        0.1050                7  "
      ]
     },
     "execution_count": 23,
     "metadata": {},
     "output_type": "execute_result"
    }
   ],
   "source": [
    "test_df.head()"
   ]
  }
 ],
 "metadata": {
  "kernelspec": {
   "display_name": "Python 3",
   "language": "python",
   "name": "python3"
  },
  "language_info": {
   "codemirror_mode": {
    "name": "ipython",
    "version": 3
   },
   "file_extension": ".py",
   "mimetype": "text/x-python",
   "name": "python",
   "nbconvert_exporter": "python",
   "pygments_lexer": "ipython3",
   "version": "3.13.0rc2"
  }
 },
 "nbformat": 4,
 "nbformat_minor": 2
}
